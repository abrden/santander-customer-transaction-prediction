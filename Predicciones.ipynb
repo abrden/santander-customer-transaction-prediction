{
 "cells": [
  {
   "cell_type": "code",
   "execution_count": 1,
   "metadata": {},
   "outputs": [],
   "source": [
    "import pandas as pd\n",
    "from sklearn.model_selection import train_test_split\n",
    "from sklearn.metrics import precision_score, recall_score, f1_score"
   ]
  },
  {
   "cell_type": "code",
   "execution_count": 2,
   "metadata": {},
   "outputs": [],
   "source": [
    "def read_csv(path_to_csv):\n",
    "    df = pd.read_csv(path_to_csv)\n",
    "    data = df.drop(columns=['ID_code'])\n",
    "    target = data['target']\n",
    "    data.drop(columns=['target'], inplace=True)\n",
    "    return data, target"
   ]
  },
  {
   "cell_type": "markdown",
   "metadata": {},
   "source": [
    "---\n",
    "# Original dataset"
   ]
  },
  {
   "cell_type": "code",
   "execution_count": 3,
   "metadata": {},
   "outputs": [],
   "source": [
    "data, target = read_csv(\"train.csv\")\n",
    "training_features, testing_features, training_target, testing_target = \\\n",
    "    train_test_split(data, target, train_size=0.66, test_size=0.33, random_state=42)"
   ]
  },
  {
   "cell_type": "markdown",
   "metadata": {},
   "source": [
    "## Pipeline 1"
   ]
  },
  {
   "cell_type": "code",
   "execution_count": 4,
   "metadata": {},
   "outputs": [
    {
     "name": "stderr",
     "output_type": "stream",
     "text": [
      "/anaconda3/lib/python3.7/site-packages/sklearn/externals/joblib/__init__.py:15: DeprecationWarning: sklearn.externals.joblib is deprecated in 0.21 and will be removed in 0.23. Please import this functionality directly from joblib, which can be installed with: pip install joblib. If this warning is raised when loading pickled models, you may need to re-serialize those models with scikit-learn 0.21+.\n",
      "  warnings.warn(msg, category=DeprecationWarning)\n"
     ]
    },
    {
     "name": "stdout",
     "output_type": "stream",
     "text": [
      "Precision 0.7212261422787739\n",
      "Recall 0.3692626591649393\n",
      "F1 score 0.48844496670583626\n"
     ]
    }
   ],
   "source": [
    "import numpy as np\n",
    "from sklearn.ensemble import ExtraTreesClassifier\n",
    "from sklearn.feature_selection import VarianceThreshold\n",
    "from sklearn.naive_bayes import GaussianNB\n",
    "from sklearn.pipeline import make_pipeline, make_union\n",
    "from tpot.builtins import StackingEstimator, ZeroCount\n",
    "\n",
    "# Average CV score on the training set was:0.920530303030303\n",
    "exported_pipeline = make_pipeline(\n",
    "    StackingEstimator(estimator=GaussianNB()),\n",
    "    VarianceThreshold(threshold=0.001),\n",
    "    ZeroCount(),\n",
    "    ExtraTreesClassifier(bootstrap=False, criterion=\"entropy\", max_features=0.15000000000000002, min_samples_leaf=6, min_samples_split=2, n_estimators=100)\n",
    ")\n",
    "\n",
    "exported_pipeline.fit(training_features, training_target)\n",
    "results = exported_pipeline.predict(testing_features)\n",
    "\n",
    "print(\"Precision\", precision_score(testing_target, results))\n",
    "print(\"Recall\", recall_score(testing_target, results))\n",
    "print(\"F1 score\", f1_score(testing_target, results))"
   ]
  },
  {
   "cell_type": "markdown",
   "metadata": {},
   "source": [
    "## Pipeline 2"
   ]
  },
  {
   "cell_type": "code",
   "execution_count": 5,
   "metadata": {},
   "outputs": [
    {
     "name": "stdout",
     "output_type": "stream",
     "text": [
      "Precision 0.713388524122181\n",
      "Recall 0.37000296120817294\n",
      "F1 score 0.48727698157355953\n"
     ]
    }
   ],
   "source": [
    "import numpy as np\n",
    "from sklearn.feature_selection import VarianceThreshold\n",
    "from sklearn.naive_bayes import GaussianNB\n",
    "from sklearn.pipeline import make_pipeline\n",
    "\n",
    "# Average CV score on the training set was:0.9214318207197557\n",
    "exported_pipeline = make_pipeline(\n",
    "    VarianceThreshold(threshold=0.01),\n",
    "    GaussianNB()\n",
    ")\n",
    "\n",
    "exported_pipeline.fit(training_features, training_target)\n",
    "results = exported_pipeline.predict(testing_features)\n",
    "\n",
    "print(\"Precision\", precision_score(testing_target, results))\n",
    "print(\"Recall\", recall_score(testing_target, results))\n",
    "print(\"F1 score\", f1_score(testing_target, results))"
   ]
  },
  {
   "cell_type": "markdown",
   "metadata": {},
   "source": [
    "---\n",
    "# Balanced with Random Under Sampler"
   ]
  },
  {
   "cell_type": "code",
   "execution_count": 6,
   "metadata": {},
   "outputs": [],
   "source": [
    "data, target = read_csv(\"random_under_sampler.csv\")\n",
    "training_features, testing_features, training_target, testing_target = \\\n",
    "    train_test_split(data, target, train_size=0.66, test_size=0.33, random_state=42)"
   ]
  },
  {
   "cell_type": "markdown",
   "metadata": {},
   "source": [
    "## Pipeline 1"
   ]
  },
  {
   "cell_type": "code",
   "execution_count": 7,
   "metadata": {},
   "outputs": [
    {
     "name": "stdout",
     "output_type": "stream",
     "text": [
      "Precision 0.8093065693430657\n",
      "Recall 0.8031995170540296\n",
      "F1 score 0.8062414785638539\n"
     ]
    }
   ],
   "source": [
    "import numpy as np\n",
    "from sklearn.feature_selection import VarianceThreshold\n",
    "from sklearn.naive_bayes import GaussianNB\n",
    "from sklearn.pipeline import make_pipeline\n",
    "\n",
    "# Average CV score on the training set was:0.8072297930285739\n",
    "exported_pipeline = make_pipeline(\n",
    "    VarianceThreshold(threshold=0.01),\n",
    "    GaussianNB()\n",
    ")\n",
    "\n",
    "exported_pipeline.fit(training_features, training_target)\n",
    "results = exported_pipeline.predict(testing_features)\n",
    "\n",
    "print(\"Precision\", precision_score(testing_target, results))\n",
    "print(\"Recall\", recall_score(testing_target, results))\n",
    "print(\"F1 score\", f1_score(testing_target, results))"
   ]
  },
  {
   "cell_type": "markdown",
   "metadata": {},
   "source": [
    "## Pipeline 2"
   ]
  },
  {
   "cell_type": "code",
   "execution_count": 8,
   "metadata": {},
   "outputs": [
    {
     "name": "stdout",
     "output_type": "stream",
     "text": [
      "Precision 0.8093065693430657\n",
      "Recall 0.8031995170540296\n",
      "F1 score 0.8062414785638539\n"
     ]
    }
   ],
   "source": [
    "import numpy as np\n",
    "from sklearn.feature_selection import VarianceThreshold\n",
    "from sklearn.naive_bayes import GaussianNB\n",
    "from sklearn.pipeline import make_pipeline\n",
    "\n",
    "# Average CV score on the training set was:0.8085111309799645\n",
    "exported_pipeline = make_pipeline(\n",
    "    VarianceThreshold(threshold=0.0001),\n",
    "    GaussianNB()\n",
    ")\n",
    "\n",
    "exported_pipeline.fit(training_features, training_target)\n",
    "results = exported_pipeline.predict(testing_features)\n",
    "\n",
    "print(\"Precision\", precision_score(testing_target, results))\n",
    "print(\"Recall\", recall_score(testing_target, results))\n",
    "print(\"F1 score\", f1_score(testing_target, results))"
   ]
  },
  {
   "cell_type": "markdown",
   "metadata": {},
   "source": [
    "---\n",
    "# Balanced with Random Over Sampler"
   ]
  },
  {
   "cell_type": "code",
   "execution_count": 9,
   "metadata": {},
   "outputs": [],
   "source": [
    "data, target = read_csv(\"random_over_sampler.csv\")\n",
    "training_features, testing_features, training_target, testing_target = \\\n",
    "    train_test_split(data, target, train_size=0.66, test_size=0.33, random_state=42)"
   ]
  },
  {
   "cell_type": "code",
   "execution_count": 10,
   "metadata": {},
   "outputs": [
    {
     "name": "stdout",
     "output_type": "stream",
     "text": [
      "Precision 0.8311350548021549\n",
      "Recall 0.8290907865698546\n",
      "F1 score 0.8301116621124717\n"
     ]
    }
   ],
   "source": [
    "import numpy as np\n",
    "from sklearn.ensemble import GradientBoostingClassifier\n",
    "\n",
    "# Average CV score on the training set was:0.8292963321682738\n",
    "exported_pipeline = GradientBoostingClassifier(learning_rate=0.5, max_depth=4, max_features=0.05, min_samples_leaf=8, min_samples_split=12, n_estimators=100, subsample=0.9500000000000001)\n",
    "\n",
    "exported_pipeline.fit(training_features, training_target)\n",
    "results = exported_pipeline.predict(testing_features)\n",
    "\n",
    "print(\"Precision\", precision_score(testing_target, results))\n",
    "print(\"Recall\", recall_score(testing_target, results))\n",
    "print(\"F1 score\", f1_score(testing_target, results))"
   ]
  },
  {
   "cell_type": "markdown",
   "metadata": {},
   "source": [
    "---\n",
    "# Feature engineering dataset"
   ]
  },
  {
   "cell_type": "markdown",
   "metadata": {},
   "source": [
    "(En notebook separado)"
   ]
  }
 ],
 "metadata": {
  "kernelspec": {
   "display_name": "Python 3",
   "language": "python",
   "name": "python3"
  },
  "language_info": {
   "codemirror_mode": {
    "name": "ipython",
    "version": 3
   },
   "file_extension": ".py",
   "mimetype": "text/x-python",
   "name": "python",
   "nbconvert_exporter": "python",
   "pygments_lexer": "ipython3",
   "version": "3.7.1"
  }
 },
 "nbformat": 4,
 "nbformat_minor": 2
}
