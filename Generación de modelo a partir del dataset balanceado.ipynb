{
 "cells": [
  {
   "cell_type": "code",
   "execution_count": 1,
   "metadata": {},
   "outputs": [
    {
     "name": "stderr",
     "output_type": "stream",
     "text": [
      "/anaconda3/lib/python3.7/site-packages/sklearn/externals/joblib/__init__.py:15: DeprecationWarning: sklearn.externals.joblib is deprecated in 0.21 and will be removed in 0.23. Please import this functionality directly from joblib, which can be installed with: pip install joblib. If this warning is raised when loading pickled models, you may need to re-serialize those models with scikit-learn 0.21+.\n",
      "  warnings.warn(msg, category=DeprecationWarning)\n"
     ]
    }
   ],
   "source": [
    "from tpot import TPOTClassifier\n",
    "from sklearn.model_selection import train_test_split\n",
    "import pandas as pd"
   ]
  },
  {
   "cell_type": "code",
   "execution_count": 2,
   "metadata": {},
   "outputs": [],
   "source": [
    "def read_csv(path_to_csv):\n",
    "    df = pd.read_csv(path_to_csv)\n",
    "    data = df.drop(columns=['ID_code'])\n",
    "    target = data['target']\n",
    "    data.drop(columns=['target'], inplace=True)\n",
    "    return data, target"
   ]
  },
  {
   "cell_type": "code",
   "execution_count": 3,
   "metadata": {},
   "outputs": [],
   "source": [
    "def TPOT_pipeline(X_train, y_train, X_test, y_test, path_to_export):\n",
    "    pipeline_optimizer = TPOTClassifier(generations=5, population_size=20, cv=5, random_state=42, verbosity=2)\n",
    "    pipeline_optimizer.fit(X_train, y_train)\n",
    "    print(pipeline_optimizer.score(X_test, y_test))\n",
    "    pipeline_optimizer.export(path_to_export)"
   ]
  },
  {
   "cell_type": "code",
   "execution_count": 4,
   "metadata": {},
   "outputs": [
    {
     "data": {
      "application/vnd.jupyter.widget-view+json": {
       "model_id": "",
       "version_major": 2,
       "version_minor": 0
      },
      "text/plain": [
       "HBox(children=(IntProgress(value=0, description='Optimization Progress', max=120, style=ProgressStyle(descript…"
      ]
     },
     "metadata": {},
     "output_type": "display_data"
    },
    {
     "name": "stdout",
     "output_type": "stream",
     "text": [
      "Generation 1 - Current best internal CV score: 0.8077948327155692\n",
      "Generation 2 - Current best internal CV score: 0.8077948327155692\n",
      "Generation 3 - Current best internal CV score: 0.8077948327155692\n",
      "Generation 4 - Current best internal CV score: 0.8077948327155692\n",
      "Generation 5 - Current best internal CV score: 0.8085111309799645\n",
      "\n",
      "Best pipeline: GaussianNB(VarianceThreshold(input_matrix, threshold=0.0001))\n",
      "0.804523181304184\n"
     ]
    }
   ],
   "source": [
    "data, target = read_csv(\"random_under_sampler.csv\")\n",
    "X_train, X_test, y_train, y_test = train_test_split(data, target, train_size=0.66, test_size=0.33)\n",
    "TPOT_pipeline(X_train, y_train, X_test, y_test, \"random_under_sampler_24.py\")"
   ]
  },
  {
   "cell_type": "code",
   "execution_count": null,
   "metadata": {},
   "outputs": [
    {
     "data": {
      "application/vnd.jupyter.widget-view+json": {
       "model_id": "239f565138814f20988bf1abd94b2833",
       "version_major": 2,
       "version_minor": 0
      },
      "text/plain": [
       "HBox(children=(IntProgress(value=0, description='Optimization Progress', max=120, style=ProgressStyle(descript…"
      ]
     },
     "metadata": {},
     "output_type": "display_data"
    },
    {
     "name": "stdout",
     "output_type": "stream",
     "text": [
      "\r",
      "Generation 1 - Current best internal CV score: 0.8097738535148677\n"
     ]
    }
   ],
   "source": [
    "data, target = read_csv(\"random_over_sampler.csv\")\n",
    "X_train, X_test, y_train, y_test = train_test_split(data, target, train_size=0.66, test_size=0.33, random_state=42)\n",
    "TPOT_pipeline(X_train, y_train, X_test, y_test, \"random_over_sampler_24.py\")"
   ]
  }
 ],
 "metadata": {
  "kernelspec": {
   "display_name": "Python 3",
   "language": "python",
   "name": "python3"
  },
  "language_info": {
   "codemirror_mode": {
    "name": "ipython",
    "version": 3
   },
   "file_extension": ".py",
   "mimetype": "text/x-python",
   "name": "python",
   "nbconvert_exporter": "python",
   "pygments_lexer": "ipython3",
   "version": "3.7.1"
  }
 },
 "nbformat": 4,
 "nbformat_minor": 2
}
