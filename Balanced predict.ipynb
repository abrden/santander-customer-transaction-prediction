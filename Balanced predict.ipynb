{
 "cells": [
  {
   "cell_type": "code",
   "execution_count": 1,
   "metadata": {},
   "outputs": [
    {
     "name": "stderr",
     "output_type": "stream",
     "text": [
      "/anaconda3/lib/python3.7/site-packages/sklearn/externals/joblib/__init__.py:15: DeprecationWarning: sklearn.externals.joblib is deprecated in 0.21 and will be removed in 0.23. Please import this functionality directly from joblib, which can be installed with: pip install joblib. If this warning is raised when loading pickled models, you may need to re-serialize those models with scikit-learn 0.21+.\n",
      "  warnings.warn(msg, category=DeprecationWarning)\n"
     ]
    }
   ],
   "source": [
    "from tpot import TPOTClassifier\n",
    "from sklearn.model_selection import train_test_split\n",
    "import pandas as pd"
   ]
  },
  {
   "cell_type": "code",
   "execution_count": 2,
   "metadata": {},
   "outputs": [],
   "source": [
    "def read_csv(path_to_csv):\n",
    "    df = pd.read_csv(path_to_csv)\n",
    "    data = df.drop(columns=['ID_code'])\n",
    "    target = data['target']\n",
    "    data.drop(columns=['target'], inplace=True)\n",
    "    return data, target"
   ]
  },
  {
   "cell_type": "code",
   "execution_count": 3,
   "metadata": {},
   "outputs": [],
   "source": [
    "def TPOT_pipeline(X_train, y_train, X_test, y_test, path_to_export):\n",
    "    pipeline_optimizer = TPOTClassifier(generations=5, population_size=20, cv=5,random_state=42, verbosity=2)\n",
    "    pipeline_optimizer.fit(X_train, y_train)\n",
    "    print(pipeline_optimizer.score(X_test, y_test))\n",
    "    pipeline_optimizer.export(path_to_export)"
   ]
  },
  {
   "cell_type": "code",
   "execution_count": 4,
   "metadata": {},
   "outputs": [
    {
     "data": {
      "application/vnd.jupyter.widget-view+json": {
       "model_id": "",
       "version_major": 2,
       "version_minor": 0
      },
      "text/plain": [
       "HBox(children=(IntProgress(value=0, description='Optimization Progress', max=120, style=ProgressStyle(descript…"
      ]
     },
     "metadata": {},
     "output_type": "display_data"
    },
    {
     "name": "stdout",
     "output_type": "stream",
     "text": [
      "Generation 1 - Current best internal CV score: 0.81095717353771\n",
      "Generation 2 - Current best internal CV score: 0.81095717353771\n",
      "Generation 3 - Current best internal CV score: 0.8292963321682738\n",
      "Generation 4 - Current best internal CV score: 0.8292963321682738\n",
      "Generation 5 - Current best internal CV score: 0.8292963321682738\n",
      "\n",
      "Best pipeline: GradientBoostingClassifier(input_matrix, learning_rate=0.5, max_depth=4, max_features=0.05, min_samples_leaf=8, min_samples_split=12, n_estimators=100, subsample=0.9500000000000001)\n",
      "0.8294619997304945\n"
     ]
    }
   ],
   "source": [
    "data, target = read_csv(\"random_over_sampler.csv\")\n",
    "X_train, X_test, y_train, y_test = train_test_split(data, target, train_size=0.66, test_size=0.33)\n",
    "TPOT_pipeline(X_train, y_train, X_test, y_test, \"random_over_sampler.py\")"
   ]
  },
  {
   "cell_type": "code",
   "execution_count": 4,
   "metadata": {},
   "outputs": [
    {
     "data": {
      "application/vnd.jupyter.widget-view+json": {
       "model_id": "",
       "version_major": 2,
       "version_minor": 0
      },
      "text/plain": [
       "HBox(children=(IntProgress(value=0, description='Optimization Progress', max=120, style=ProgressStyle(descript…"
      ]
     },
     "metadata": {},
     "output_type": "display_data"
    },
    {
     "name": "stdout",
     "output_type": "stream",
     "text": [
      "Generation 1 - Current best internal CV score: 0.8070413413513341\n",
      "Generation 2 - Current best internal CV score: 0.8070413413513341\n",
      "Generation 3 - Current best internal CV score: 0.8070413413513341\n",
      "Generation 4 - Current best internal CV score: 0.8072297930285739\n",
      "Generation 5 - Current best internal CV score: 0.8072297930285739\n",
      "\n",
      "Best pipeline: GaussianNB(VarianceThreshold(input_matrix, threshold=0.01))\n",
      "0.8080663399924614\n"
     ]
    }
   ],
   "source": [
    "data, target = read_csv(\"random_under_sampler.csv\")\n",
    "X_train, X_test, y_train, y_test = train_test_split(data, target, train_size=0.66, test_size=0.33)\n",
    "TPOT_pipeline(X_train, y_train, X_test, y_test, \"random_under_sampler.py\")"
   ]
  }
 ],
 "metadata": {
  "kernelspec": {
   "display_name": "Python 3",
   "language": "python",
   "name": "python3"
  },
  "language_info": {
   "codemirror_mode": {
    "name": "ipython",
    "version": 3
   },
   "file_extension": ".py",
   "mimetype": "text/x-python",
   "name": "python",
   "nbconvert_exporter": "python",
   "pygments_lexer": "ipython3",
   "version": "3.7.1"
  }
 },
 "nbformat": 4,
 "nbformat_minor": 2
}
